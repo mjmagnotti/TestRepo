{
  "metadata": {
    "kernelspec": {
      "name": "python",
      "display_name": "Python (Pyodide)",
      "language": "python"
    },
    "language_info": {
      "codemirror_mode": {
        "name": "python",
        "version": 3
      },
      "file_extension": ".py",
      "mimetype": "text/x-python",
      "name": "python",
      "nbconvert_exporter": "python",
      "pygments_lexer": "ipython3",
      "version": "3.8"
    }
  },
  "nbformat_minor": 5,
  "nbformat": 4,
  "cells": [
    {
      "id": "06444e1e-a72e-493c-8fcf-08918d438580",
      "cell_type": "markdown",
      "source": "# Data Science Tools and Ecosystem",
      "metadata": {}
    },
    {
      "id": "3e817f9a-2f34-4149-92ba-e3ecb84e56ed",
      "cell_type": "markdown",
      "source": "## Author\nMichael Magnotti",
      "metadata": {}
    },
    {
      "id": "51d89290-77ae-48ea-a2f9-f746637936d3",
      "cell_type": "markdown",
      "source": "In this notebook, Data Science Tools and Ecosystems are summarized.",
      "metadata": {}
    },
    {
      "id": "33c69649-37ad-44b8-a0fb-2c690caa3710",
      "cell_type": "markdown",
      "source": "**Objectives:**\n- List popular languages for Data Science\n- List popular libraries for Data Science\n- List popular Data Science Open Source Environments\n- Show examples of arithmetic expressions and conversions",
      "metadata": {}
    },
    {
      "id": "f91952b0-e3f2-472d-b62e-c8a4dd99b7ce",
      "cell_type": "markdown",
      "source": "Some of the popular languages that Data Scientists use are:\n1. Python\n2. R\n3. SQL\n4. Java",
      "metadata": {}
    },
    {
      "id": "c14c7113-9741-4d2d-b694-48c6c5c4cda7",
      "cell_type": "markdown",
      "source": "Some of the commonly used libraries used by Data Scientists include:\n1. Pandas\n2. Numpy\n3. Matplotlib\n4. ggplot",
      "metadata": {}
    },
    {
      "id": "49342920-b314-4375-b4a4-3a97c38846f6",
      "cell_type": "markdown",
      "source": "| Data Science Tools |\n| --- |\n| JupyterNotebooks |\n| RStudio |\n| Apache Spark |",
      "metadata": {}
    },
    {
      "id": "a7694ab3-585d-48b9-a603-2ebacc5eaedf",
      "cell_type": "markdown",
      "source": "### Below are a few examples of evaluating arithmetic expressions in Python:",
      "metadata": {}
    },
    {
      "id": "7ebb9ed4-a672-4237-ab05-d197de0f0ac6",
      "cell_type": "code",
      "source": "# This is a simple arithmetic expression to multiply then add integers\n(3*4)+5",
      "metadata": {
        "trusted": true
      },
      "outputs": [
        {
          "execution_count": 3,
          "output_type": "execute_result",
          "data": {
            "text/plain": "17"
          },
          "metadata": {}
        }
      ],
      "execution_count": 3
    },
    {
      "id": "862ecb99-58a7-4af1-a8c9-1aec794af8ad",
      "cell_type": "code",
      "source": "# This will convert 200 minutes to hours by dividing by 60\nminTime = 200\nhrTime = 200/60\nprint(hrTime, \"hours\")",
      "metadata": {
        "trusted": true
      },
      "outputs": [
        {
          "name": "stdout",
          "output_type": "stream",
          "text": "3.3333333333333335 hours\n"
        }
      ],
      "execution_count": 7
    },
    {
      "id": "b207d8b9-11c2-432a-88b8-7859bcbb85a6",
      "cell_type": "code",
      "source": "",
      "metadata": {
        "trusted": true
      },
      "outputs": [],
      "execution_count": null
    }
  ]
}